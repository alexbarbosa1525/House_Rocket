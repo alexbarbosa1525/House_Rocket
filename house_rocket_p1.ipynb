{
 "cells": [
  {
   "cell_type": "markdown",
   "id": "117dd7f1",
   "metadata": {},
   "source": [
    "# PROJETO HOUSE ROCKET"
   ]
  },
  {
   "cell_type": "markdown",
   "id": "198f88b4",
   "metadata": {},
   "source": [
    "## Entendimento do Negócio"
   ]
  },
  {
   "cell_type": "markdown",
   "id": "73dd5e9b",
   "metadata": {},
   "source": [
    "1. Questão de negócio.\n",
    "- O que você quer resolver ?\n",
    "- Encontrar as melhores oportunidades de compra de imóveis do portfólio da House Rocket.\n",
    "\n",
    "2. Premissas de negócio.\n",
    "- O que você está assumindo para realizar o projeto ?\n",
    "- Retirando casas com valor de venda maior que 500.000.000,00 mil reais.  ( possível erro do sistema ).\n",
    "- A média do preço das casas na região de Seattle é de R$ 300.000,00.\n",
    "- Todas as casas estão em ótimas condições.\n",
    "\n",
    "3. Planejamento da solução:\n",
    "- Qual o seu plano para resolver o problema?\n",
    "\n",
    "4. Os 5 principais insights dos dados:\n",
    "- O que há de relevante nos dados que pode ajudar o time de negócio à tomar decisão.\n",
    "\n",
    "5. Resultados financeiros para o negócio:\n",
    "- Quanto a empresa espera lucrar com a sua solução ?\n",
    "\n",
    "6. Conclusão:\n",
    "- Seu objetivo inicial foi alcançado? Sim ? Não ? Porque ?\n"
   ]
  },
  {
   "cell_type": "markdown",
   "id": "c12cecd5",
   "metadata": {},
   "source": [
    "### Tarefas\n",
    "1. Criar 10 vizualizações para análise\n",
    "\n",
    "1. Mapa com preços definindo o tamanho do identificador\n",
    "2. Filtros nos mapas\n",
    "3. Varição de preço\n",
    "4. Variação de tamanho\n",
    "2. Contruir tabela de recomendações de compra e não compra\n",
    "3. Construir tabela com recomendações de venda com acrescimo de 10 a 30 por cento\n",
    "4. Fornecer hipóteses e a tabela no streamlit\n",
    "5. Postar o projeto no Github com Readme\n"
   ]
  },
  {
   "cell_type": "markdown",
   "id": "316a9d13",
   "metadata": {},
   "source": [
    "## Import Libraries"
   ]
  },
  {
   "cell_type": "code",
   "execution_count": 1,
   "id": "270cab8f",
   "metadata": {},
   "outputs": [],
   "source": [
    "#!pip install streamlit"
   ]
  },
  {
   "cell_type": "code",
   "execution_count": 2,
   "id": "58a0f32a",
   "metadata": {
    "ExecuteTime": {
     "end_time": "2022-04-13T00:03:44.097195Z",
     "start_time": "2022-04-13T00:03:44.082187Z"
    }
   },
   "outputs": [],
   "source": [
    "#import libraries\n",
    "\n",
    "import pandas as pd\n",
    "import numpy as np\n",
    "import streamlit as st\n",
    "import seaborn as sb\n",
    "\n",
    "from matplotlib import gridspec\n",
    "from matplotlib import pyplot     as plt\n",
    "import ipywidgets     as widgets\n",
    "import plotly.express as px\n",
    "from ipywidgets import interact, interactive, fixed, interact_manual"
   ]
  },
  {
   "cell_type": "markdown",
   "id": "faff4a55",
   "metadata": {},
   "source": [
    "## Import Data"
   ]
  },
  {
   "cell_type": "code",
   "execution_count": 4,
   "id": "90cd916f",
   "metadata": {
    "ExecuteTime": {
     "end_time": "2022-04-13T00:03:45.223314Z",
     "start_time": "2022-04-13T00:03:45.100118Z"
    }
   },
   "outputs": [],
   "source": [
    "# import dataset\n",
    "data = pd.read_csv(r'C:\\Users\\alexa\\Documents\\repos\\house_rocket\\house-rocket-analitycs\\data\\kc_house_data.csv')\n"
   ]
  },
  {
   "cell_type": "markdown",
   "id": "203a5932",
   "metadata": {},
   "source": [
    "## Data Check"
   ]
  },
  {
   "cell_type": "markdown",
   "id": "7f2192c4",
   "metadata": {},
   "source": [
    "### Check Values, Types and NaN"
   ]
  },
  {
   "cell_type": "code",
   "execution_count": 5,
   "id": "35cc56c7",
   "metadata": {
    "ExecuteTime": {
     "end_time": "2022-04-13T00:03:50.290086Z",
     "start_time": "2022-04-13T00:03:50.269078Z"
    }
   },
   "outputs": [
    {
     "name": "stdout",
     "output_type": "stream",
     "text": [
      "Number of Rows:21613\n",
      "Number of Columns 21\n",
      "id                 int64\n",
      "date              object\n",
      "price            float64\n",
      "bedrooms           int64\n",
      "bathrooms        float64\n",
      "sqft_living        int64\n",
      "sqft_lot           int64\n",
      "floors           float64\n",
      "waterfront         int64\n",
      "view               int64\n",
      "condition          int64\n",
      "grade              int64\n",
      "sqft_above       float64\n",
      "sqft_basement      int64\n",
      "yr_built           int64\n",
      "yr_renovated       int64\n",
      "zipcode            int64\n",
      "lat              float64\n",
      "long             float64\n",
      "sqft_living15      int64\n",
      "sqft_lot15         int64\n",
      "dtype: object\n"
     ]
    }
   ],
   "source": [
    "# data dimension\n",
    "print( 'Number of Rows:{}'.format( data.shape[0] ) )\n",
    "print( 'Number of Columns {}'.format( data.shape[1] ) )\n",
    "print(data.dtypes) "
   ]
  },
  {
   "cell_type": "code",
   "execution_count": 6,
   "id": "34267d60",
   "metadata": {
    "ExecuteTime": {
     "end_time": "2022-04-13T00:03:54.492700Z",
     "start_time": "2022-04-13T00:03:54.335262Z"
    }
   },
   "outputs": [],
   "source": [
    "#transformation\n",
    "\n",
    "#Convert variables to datetime\n",
    "data['date'] = pd.to_datetime( data['date'], format='%Y-%m-%d' )\n",
    "data[ 'yr_built' ] = pd.to_datetime( data [ 'yr_built' ], format = '%Y' )\n",
    "data['yr_renovated'] = data['yr_renovated'].apply( lambda x: pd.to_datetime( x, format='%Y') if x > 0 else x )\n",
    "\n",
    "#df = data.loc[data['yr_renovated'] > 1930, ['price', 'yr_renovated']].groupby( 'yr_renovated' ).mean().reset_index()\n"
   ]
  },
  {
   "cell_type": "markdown",
   "id": "91c3c2aa",
   "metadata": {},
   "source": [
    "## Analyse Data and Create New variables"
   ]
  },
  {
   "cell_type": "markdown",
   "id": "b592bd5b",
   "metadata": {},
   "source": []
  },
  {
   "cell_type": "code",
   "execution_count": 7,
   "id": "285e8b07",
   "metadata": {
    "ExecuteTime": {
     "end_time": "2022-04-13T00:03:55.688189Z",
     "start_time": "2022-04-13T00:03:55.670182Z"
    }
   },
   "outputs": [],
   "source": [
    "#Houses per price level\n",
    "data['level'] = data['price'].apply( lambda x: 0 if x <= 321950 else\n",
    "                                               1 if  ( x > 321950 ) & ( x <= 450000) else\n",
    "                                               2 if  ( x > 450000 ) & ( x <= 645000) else '3' )\n",
    "\n",
    "data['level'] = data['level'].astype(int)"
   ]
  },
  {
   "cell_type": "code",
   "execution_count": 8,
   "id": "a844e31c",
   "metadata": {
    "ExecuteTime": {
     "end_time": "2022-04-13T00:03:55.910165Z",
     "start_time": "2022-04-13T00:03:55.882183Z"
    }
   },
   "outputs": [],
   "source": [
    "#Houses per size in meters\n",
    "\n",
    "data['meter_living'] = data['sqft_living'] * 0.09290304\n",
    "data['size'] = data['meter_living'].apply( lambda x: 0 if x <= 132.57 else\n",
    "                                                    1 if  ( x > 132.57 ) & ( x <= 177.44) else\n",
    "                                                    2 if  ( x > 177.44 ) & ( x <= 236.90) else '3' )\n",
    "\n",
    "data['size'] = data['size'].astype(int)"
   ]
  },
  {
   "cell_type": "code",
   "execution_count": 9,
   "id": "b97ff0e4",
   "metadata": {
    "ExecuteTime": {
     "end_time": "2022-04-13T00:03:56.079596Z",
     "start_time": "2022-04-13T00:03:56.073603Z"
    }
   },
   "outputs": [],
   "source": [
    "# Calcular o preço por metro quadrado do apartamento\n",
    "data['price_per_meter'] = data['price'] / data['meter_living']"
   ]
  },
  {
   "cell_type": "markdown",
   "id": "aff130e8",
   "metadata": {
    "ExecuteTime": {
     "end_time": "2022-03-16T01:34:27.272762Z",
     "start_time": "2022-03-16T01:34:25.491887Z"
    }
   },
   "source": [
    "#### Get Address info"
   ]
  },
  {
   "cell_type": "markdown",
   "id": "2313c49c",
   "metadata": {
    "ExecuteTime": {
     "end_time": "2022-03-16T01:34:46.149830Z",
     "start_time": "2022-03-16T01:34:46.132841Z"
    }
   },
   "source": [
    "Disponibilizar endereço no APP"
   ]
  },
  {
   "cell_type": "code",
   "execution_count": 10,
   "id": "ab5627d4",
   "metadata": {
    "ExecuteTime": {
     "end_time": "2022-03-18T04:03:48.790008Z",
     "start_time": "2022-03-18T00:43:53.297937Z"
    }
   },
   "outputs": [],
   "source": [
    "#Geopy para coletar os dados para média por bairro\n",
    "#from geopy.geocoders import Nominatim\n",
    "#import geopy.geocoders\n",
    "#geopy.geocoders.options.default_timeout = 1500\n",
    "# initializa API\n",
    "\n",
    "#geolocator = Nominatim( user_agent='openstreetmap')\n",
    "\n",
    "# Create empty rows\n",
    "#data.loc[:, 'neighbourhood '] = 'NA'\n",
    "#data.loc[:,'postcode'] = 'NA'\n",
    "\n",
    "#for i in range( len( data ) ):\n",
    "#    print( 'Loop: {}/{}'.format( i, len( data ) ) )\n",
    " #   # make request\n",
    "  #  query = str( data.loc[i, 'lat'] ) + ',' + str( data.loc[i, 'long'] )\n",
    "   # response = geolocator.reverse( query )\n",
    "\n",
    "    # parse data         #\n",
    " #   if 'postcode' in response.raw['address']:\n",
    "  #      data.loc[i, 'postcode'] = response.raw['address']['postcode']      \n",
    "\n",
    "# data dimension\n",
    "#print( 'Number of Rows:{}'.format( data.shape[0] ) )\n",
    "#print( 'Number of Columns {}'.format( data.shape[1] ) )"
   ]
  },
  {
   "cell_type": "code",
   "execution_count": 11,
   "id": "4bd87271",
   "metadata": {
    "ExecuteTime": {
     "end_time": "2022-03-19T16:10:19.991548Z",
     "start_time": "2022-03-19T16:10:18.955847Z"
    }
   },
   "outputs": [],
   "source": [
    "## Create file with Zip Code\n",
    "#data.to_csv('data_zip_code.csv')"
   ]
  },
  {
   "cell_type": "code",
   "execution_count": 12,
   "id": "30f13224",
   "metadata": {
    "ExecuteTime": {
     "end_time": "2022-04-13T00:06:09.878227Z",
     "start_time": "2022-04-13T00:06:09.861235Z"
    }
   },
   "outputs": [],
   "source": [
    "#import time\n",
    "#from geopy.geocoders import Nominatim\n",
    "#from tqdm import tqdm\n",
    "#tqdm.pandas()\n",
    "\n",
    "#\n",
    "#geolocator = Nominatim( user_agent='openstreetmap' )\n",
    "#from geopy.extra.rate_limiter import RateLimiter\n",
    "#geocode = RateLimiter(geolocator.geocode, min_delay_seconds=1)\n",
    "\n",
    "#def get_longlat( x ):\n",
    " #   index, row = x\n",
    "  #  time.sleep(1)\n",
    "   # response = geolocator.reverse( row['query'] )\n",
    "   # address = response.raw['address']\n",
    "    \n",
    " #   try:\n",
    "#        place_id = response.raw['place_id'] if 'place_id' in response.raw else 'NA'\n",
    " #       osm_type = response.raw['osm_type'] if 'osm_type' in response.raw else 'NA'\n",
    "#\n",
    " #       country = address['country'] if 'country' in address else 'NA'\n",
    "#        country_code = address['country_code'] if 'country_code' in address else 'NA'\n",
    "#\n",
    " #       return place_id, osm_type, country, country_code\n",
    "#\n",
    "  #  except:\n",
    "        #return None, None, None, None"
   ]
  },
  {
   "cell_type": "code",
   "execution_count": 13,
   "id": "6e865b2f",
   "metadata": {
    "ExecuteTime": {
     "end_time": "2022-04-13T00:06:30.561225Z",
     "start_time": "2022-04-13T00:06:30.545234Z"
    }
   },
   "outputs": [],
   "source": [
    "#import time\n",
    "#from multiprocessing import Pool\n",
    "\n",
    "#data['query'] = data[['lat', 'long']].apply( lambda x: str( x['lat'] ) + ',' + str( x['long'] ), axis=1 )\n",
    "#df1 = data[['id', 'query']].head()\n",
    "\n",
    "#p = Pool(2)\n",
    "#start = time.process_time()\n",
    "#df1[['place_id', 'osm_type', 'country', 'country_code']] = p.map( get_longlat, df1.iterrows() )\n",
    "#print(time.process_time() - start)"
   ]
  },
  {
   "cell_type": "markdown",
   "id": "23d42bef",
   "metadata": {},
   "source": [
    "## Descriptive Statistics"
   ]
  },
  {
   "cell_type": "code",
   "execution_count": 14,
   "id": "4904572b",
   "metadata": {
    "ExecuteTime": {
     "end_time": "2022-04-13T00:06:32.734315Z",
     "start_time": "2022-04-13T00:06:32.708333Z"
    }
   },
   "outputs": [],
   "source": [
    "# descriptive statistics\n",
    "num_attributes = data.select_dtypes( include=['int64', 'float64'] )"
   ]
  },
  {
   "cell_type": "code",
   "execution_count": 15,
   "id": "3b216852",
   "metadata": {
    "ExecuteTime": {
     "end_time": "2022-04-13T00:06:34.195463Z",
     "start_time": "2022-04-13T00:06:34.105383Z"
    }
   },
   "outputs": [
    {
     "data": {
      "text/html": [
       "<div>\n",
       "<style scoped>\n",
       "    .dataframe tbody tr th:only-of-type {\n",
       "        vertical-align: middle;\n",
       "    }\n",
       "\n",
       "    .dataframe tbody tr th {\n",
       "        vertical-align: top;\n",
       "    }\n",
       "\n",
       "    .dataframe thead th {\n",
       "        text-align: right;\n",
       "    }\n",
       "</style>\n",
       "<table border=\"1\" class=\"dataframe\">\n",
       "  <thead>\n",
       "    <tr style=\"text-align: right;\">\n",
       "      <th></th>\n",
       "      <th>attributes</th>\n",
       "      <th>mean</th>\n",
       "      <th>median</th>\n",
       "      <th>std</th>\n",
       "      <th>max</th>\n",
       "      <th>min</th>\n",
       "    </tr>\n",
       "  </thead>\n",
       "  <tbody>\n",
       "    <tr>\n",
       "      <th>0</th>\n",
       "      <td>id</td>\n",
       "      <td>9.900000e+09</td>\n",
       "      <td>1.000102e+06</td>\n",
       "      <td>4.580302e+09</td>\n",
       "      <td>3.904930e+09</td>\n",
       "      <td>2.876499e+09</td>\n",
       "    </tr>\n",
       "    <tr>\n",
       "      <th>1</th>\n",
       "      <td>price</td>\n",
       "      <td>7.700000e+06</td>\n",
       "      <td>7.500000e+04</td>\n",
       "      <td>5.400881e+05</td>\n",
       "      <td>4.500000e+05</td>\n",
       "      <td>3.671187e+05</td>\n",
       "    </tr>\n",
       "    <tr>\n",
       "      <th>2</th>\n",
       "      <td>bedrooms</td>\n",
       "      <td>3.300000e+01</td>\n",
       "      <td>0.000000e+00</td>\n",
       "      <td>3.370842e+00</td>\n",
       "      <td>3.000000e+00</td>\n",
       "      <td>9.300403e-01</td>\n",
       "    </tr>\n",
       "    <tr>\n",
       "      <th>3</th>\n",
       "      <td>bathrooms</td>\n",
       "      <td>8.000000e+00</td>\n",
       "      <td>0.000000e+00</td>\n",
       "      <td>2.114757e+00</td>\n",
       "      <td>2.250000e+00</td>\n",
       "      <td>7.701453e-01</td>\n",
       "    </tr>\n",
       "    <tr>\n",
       "      <th>4</th>\n",
       "      <td>sqft_living</td>\n",
       "      <td>1.354000e+04</td>\n",
       "      <td>2.900000e+02</td>\n",
       "      <td>2.079900e+03</td>\n",
       "      <td>1.910000e+03</td>\n",
       "      <td>9.184196e+02</td>\n",
       "    </tr>\n",
       "    <tr>\n",
       "      <th>5</th>\n",
       "      <td>sqft_lot</td>\n",
       "      <td>1.651359e+06</td>\n",
       "      <td>5.200000e+02</td>\n",
       "      <td>1.510697e+04</td>\n",
       "      <td>7.618000e+03</td>\n",
       "      <td>4.141955e+04</td>\n",
       "    </tr>\n",
       "    <tr>\n",
       "      <th>6</th>\n",
       "      <td>floors</td>\n",
       "      <td>3.500000e+00</td>\n",
       "      <td>1.000000e+00</td>\n",
       "      <td>1.494309e+00</td>\n",
       "      <td>1.500000e+00</td>\n",
       "      <td>5.399764e-01</td>\n",
       "    </tr>\n",
       "    <tr>\n",
       "      <th>7</th>\n",
       "      <td>waterfront</td>\n",
       "      <td>1.000000e+00</td>\n",
       "      <td>0.000000e+00</td>\n",
       "      <td>7.541757e-03</td>\n",
       "      <td>0.000000e+00</td>\n",
       "      <td>8.651520e-02</td>\n",
       "    </tr>\n",
       "    <tr>\n",
       "      <th>8</th>\n",
       "      <td>view</td>\n",
       "      <td>4.000000e+00</td>\n",
       "      <td>0.000000e+00</td>\n",
       "      <td>2.343034e-01</td>\n",
       "      <td>0.000000e+00</td>\n",
       "      <td>7.662998e-01</td>\n",
       "    </tr>\n",
       "    <tr>\n",
       "      <th>9</th>\n",
       "      <td>condition</td>\n",
       "      <td>5.000000e+00</td>\n",
       "      <td>1.000000e+00</td>\n",
       "      <td>3.409430e+00</td>\n",
       "      <td>3.000000e+00</td>\n",
       "      <td>6.507280e-01</td>\n",
       "    </tr>\n",
       "    <tr>\n",
       "      <th>10</th>\n",
       "      <td>grade</td>\n",
       "      <td>1.300000e+01</td>\n",
       "      <td>1.000000e+00</td>\n",
       "      <td>7.656873e+00</td>\n",
       "      <td>7.000000e+00</td>\n",
       "      <td>1.175432e+00</td>\n",
       "    </tr>\n",
       "    <tr>\n",
       "      <th>11</th>\n",
       "      <td>sqft_above</td>\n",
       "      <td>9.410000e+03</td>\n",
       "      <td>2.900000e+02</td>\n",
       "      <td>1.788396e+03</td>\n",
       "      <td>NaN</td>\n",
       "      <td>8.281090e+02</td>\n",
       "    </tr>\n",
       "    <tr>\n",
       "      <th>12</th>\n",
       "      <td>sqft_basement</td>\n",
       "      <td>4.820000e+03</td>\n",
       "      <td>0.000000e+00</td>\n",
       "      <td>2.915090e+02</td>\n",
       "      <td>0.000000e+00</td>\n",
       "      <td>4.425648e+02</td>\n",
       "    </tr>\n",
       "    <tr>\n",
       "      <th>13</th>\n",
       "      <td>zipcode</td>\n",
       "      <td>9.819900e+04</td>\n",
       "      <td>9.800100e+04</td>\n",
       "      <td>9.807794e+04</td>\n",
       "      <td>9.806500e+04</td>\n",
       "      <td>5.350379e+01</td>\n",
       "    </tr>\n",
       "    <tr>\n",
       "      <th>14</th>\n",
       "      <td>lat</td>\n",
       "      <td>4.777760e+01</td>\n",
       "      <td>4.715590e+01</td>\n",
       "      <td>4.756005e+01</td>\n",
       "      <td>4.757180e+01</td>\n",
       "      <td>1.385605e-01</td>\n",
       "    </tr>\n",
       "    <tr>\n",
       "      <th>15</th>\n",
       "      <td>long</td>\n",
       "      <td>-1.213150e+02</td>\n",
       "      <td>-1.225190e+02</td>\n",
       "      <td>-1.222139e+02</td>\n",
       "      <td>-1.222300e+02</td>\n",
       "      <td>1.408251e-01</td>\n",
       "    </tr>\n",
       "    <tr>\n",
       "      <th>16</th>\n",
       "      <td>sqft_living15</td>\n",
       "      <td>6.210000e+03</td>\n",
       "      <td>3.990000e+02</td>\n",
       "      <td>1.986552e+03</td>\n",
       "      <td>1.840000e+03</td>\n",
       "      <td>6.853754e+02</td>\n",
       "    </tr>\n",
       "    <tr>\n",
       "      <th>17</th>\n",
       "      <td>sqft_lot15</td>\n",
       "      <td>8.712000e+05</td>\n",
       "      <td>6.510000e+02</td>\n",
       "      <td>1.276846e+04</td>\n",
       "      <td>7.620000e+03</td>\n",
       "      <td>2.730355e+04</td>\n",
       "    </tr>\n",
       "    <tr>\n",
       "      <th>18</th>\n",
       "      <td>meter_living</td>\n",
       "      <td>1.257907e+03</td>\n",
       "      <td>2.694188e+01</td>\n",
       "      <td>1.932290e+02</td>\n",
       "      <td>1.774448e+02</td>\n",
       "      <td>8.532398e+01</td>\n",
       "    </tr>\n",
       "    <tr>\n",
       "      <th>19</th>\n",
       "      <td>price_per_meter</td>\n",
       "      <td>8.720262e+03</td>\n",
       "      <td>9.427919e+02</td>\n",
       "      <td>2.843358e+03</td>\n",
       "      <td>2.633332e+03</td>\n",
       "      <td>1.184657e+03</td>\n",
       "    </tr>\n",
       "  </tbody>\n",
       "</table>\n",
       "</div>"
      ],
      "text/plain": [
       "         attributes          mean        median           std           max  \\\n",
       "0                id  9.900000e+09  1.000102e+06  4.580302e+09  3.904930e+09   \n",
       "1             price  7.700000e+06  7.500000e+04  5.400881e+05  4.500000e+05   \n",
       "2          bedrooms  3.300000e+01  0.000000e+00  3.370842e+00  3.000000e+00   \n",
       "3         bathrooms  8.000000e+00  0.000000e+00  2.114757e+00  2.250000e+00   \n",
       "4       sqft_living  1.354000e+04  2.900000e+02  2.079900e+03  1.910000e+03   \n",
       "5          sqft_lot  1.651359e+06  5.200000e+02  1.510697e+04  7.618000e+03   \n",
       "6            floors  3.500000e+00  1.000000e+00  1.494309e+00  1.500000e+00   \n",
       "7        waterfront  1.000000e+00  0.000000e+00  7.541757e-03  0.000000e+00   \n",
       "8              view  4.000000e+00  0.000000e+00  2.343034e-01  0.000000e+00   \n",
       "9         condition  5.000000e+00  1.000000e+00  3.409430e+00  3.000000e+00   \n",
       "10            grade  1.300000e+01  1.000000e+00  7.656873e+00  7.000000e+00   \n",
       "11       sqft_above  9.410000e+03  2.900000e+02  1.788396e+03           NaN   \n",
       "12    sqft_basement  4.820000e+03  0.000000e+00  2.915090e+02  0.000000e+00   \n",
       "13          zipcode  9.819900e+04  9.800100e+04  9.807794e+04  9.806500e+04   \n",
       "14              lat  4.777760e+01  4.715590e+01  4.756005e+01  4.757180e+01   \n",
       "15             long -1.213150e+02 -1.225190e+02 -1.222139e+02 -1.222300e+02   \n",
       "16    sqft_living15  6.210000e+03  3.990000e+02  1.986552e+03  1.840000e+03   \n",
       "17       sqft_lot15  8.712000e+05  6.510000e+02  1.276846e+04  7.620000e+03   \n",
       "18     meter_living  1.257907e+03  2.694188e+01  1.932290e+02  1.774448e+02   \n",
       "19  price_per_meter  8.720262e+03  9.427919e+02  2.843358e+03  2.633332e+03   \n",
       "\n",
       "             min  \n",
       "0   2.876499e+09  \n",
       "1   3.671187e+05  \n",
       "2   9.300403e-01  \n",
       "3   7.701453e-01  \n",
       "4   9.184196e+02  \n",
       "5   4.141955e+04  \n",
       "6   5.399764e-01  \n",
       "7   8.651520e-02  \n",
       "8   7.662998e-01  \n",
       "9   6.507280e-01  \n",
       "10  1.175432e+00  \n",
       "11  8.281090e+02  \n",
       "12  4.425648e+02  \n",
       "13  5.350379e+01  \n",
       "14  1.385605e-01  \n",
       "15  1.408251e-01  \n",
       "16  6.853754e+02  \n",
       "17  2.730355e+04  \n",
       "18  8.532398e+01  \n",
       "19  1.184657e+03  "
      ]
     },
     "execution_count": 15,
     "metadata": {},
     "output_type": "execute_result"
    }
   ],
   "source": [
    "import numpy as np\n",
    "\n",
    "# central tendency\n",
    "media = pd.DataFrame( num_attributes.apply( np.mean ) )\n",
    "mediana = pd.DataFrame( num_attributes.apply( np.median ) )\n",
    "std = pd.DataFrame( num_attributes.apply( np.std ) )\n",
    "\n",
    "# dispersion\n",
    "std = pd.DataFrame( num_attributes.apply( np.std ) )\n",
    "max_ = pd.DataFrame( num_attributes.apply( np.max ) )\n",
    "min_ = pd.DataFrame( num_attributes.apply( np.min ) )\n",
    "\n",
    "df1 = pd.concat( [max_, min_, media, mediana, std ], axis=1 ).reset_index()\n",
    "df1.columns = ['attributes', 'mean', 'median', 'std', 'max', 'min']\n",
    "df1"
   ]
  },
  {
   "cell_type": "code",
   "execution_count": 16,
   "id": "b9be3054",
   "metadata": {
    "ExecuteTime": {
     "end_time": "2022-04-13T00:06:35.199246Z",
     "start_time": "2022-04-13T00:06:35.182256Z"
    }
   },
   "outputs": [
    {
     "name": "stdout",
     "output_type": "stream",
     "text": [
      "Number of Rows:20\n",
      "Number of Columns 6\n"
     ]
    }
   ],
   "source": [
    "# data dimension\n",
    "print( 'Number of Rows:{}'.format( df1.shape[0] ) )\n",
    "print( 'Number of Columns {}'.format( df1.shape[1] ) )"
   ]
  },
  {
   "cell_type": "code",
   "execution_count": 17,
   "id": "559d2c81",
   "metadata": {
    "ExecuteTime": {
     "end_time": "2022-04-13T00:06:36.342296Z",
     "start_time": "2022-04-13T00:06:36.288306Z"
    }
   },
   "outputs": [
    {
     "name": "stdout",
     "output_type": "stream",
     "text": [
      "Number of Rows:21613\n",
      "Number of Columns 26\n"
     ]
    }
   ],
   "source": [
    "#Crie uma nova coluna chamada: “house_age”\n",
    "#- Se o valor da coluna “date” for maior que 2014-01-01 => ‘new_house’\n",
    "#- Se o valor da coluna “date” for menor que 2014-01-01 => ‘old_house’\n",
    "data['house_age'] = 'NA'\n",
    "data.loc[data['date'] > pd.to_datetime( '2014-01-01' ), 'house_age'] = 'new_house'\n",
    "data.loc[data['date'] < pd.to_datetime( '2014-01-01' ), 'house_age'] = 'old_house'\n",
    "\n",
    "# data dimension\n",
    "print( 'Number of Rows:{}'.format( data.shape[0] ) )\n",
    "print( 'Number of Columns {}'.format( data.shape[1] ) )"
   ]
  },
  {
   "cell_type": "code",
   "execution_count": 18,
   "id": "cdee184f",
   "metadata": {
    "ExecuteTime": {
     "end_time": "2022-04-13T00:06:59.138410Z",
     "start_time": "2022-04-13T00:06:44.939148Z"
    }
   },
   "outputs": [
    {
     "name": "stdout",
     "output_type": "stream",
     "text": [
      "Number of Rows:21613\n",
      "Number of Columns 27\n"
     ]
    }
   ],
   "source": [
    "# Crie uma nova coluna chamada: “dormitory_type”\n",
    "#- Se o valor da coluna “bedrooms” for igual à 1 => ‘studio’\n",
    "#- Se o valor da coluna “bedrooms” for igual a 2 => ‘apartament’\n",
    "#- Se o valor da coluna “bedrooms” for maior que 2 => ‘house’\n",
    "data['dormitory_type'] = 'NA'\n",
    "for i in range( len( data ) ):\n",
    "    if data.loc[i, 'bedrooms'] == 1:\n",
    "        data.loc[i, 'dormitory_type'] = 'studio'\n",
    "        \n",
    "    elif data.loc[i, 'bedrooms'] == 2:\n",
    "        data.loc[i, 'dormitory_type'] = 'apartment'\n",
    "    \n",
    "    else:\n",
    "        data.loc[i, 'dormitory_type'] = 'house'\n",
    "\n",
    "# data dimension\n",
    "print( 'Number of Rows:{}'.format( data.shape[0] ) )\n",
    "print( 'Number of Columns {}'.format( data.shape[1] ) )"
   ]
  },
  {
   "cell_type": "code",
   "execution_count": 19,
   "id": "0800be53",
   "metadata": {
    "ExecuteTime": {
     "end_time": "2022-04-13T00:06:59.153405Z",
     "start_time": "2022-04-13T00:06:59.141412Z"
    }
   },
   "outputs": [
    {
     "data": {
      "text/plain": [
       "id                          int64\n",
       "date               datetime64[ns]\n",
       "price                     float64\n",
       "bedrooms                    int64\n",
       "bathrooms                 float64\n",
       "sqft_living                 int64\n",
       "sqft_lot                    int64\n",
       "floors                    float64\n",
       "waterfront                  int64\n",
       "view                        int64\n",
       "condition                   int64\n",
       "grade                       int64\n",
       "sqft_above                float64\n",
       "sqft_basement               int64\n",
       "yr_built           datetime64[ns]\n",
       "yr_renovated               object\n",
       "zipcode                     int64\n",
       "lat                       float64\n",
       "long                      float64\n",
       "sqft_living15               int64\n",
       "sqft_lot15                  int64\n",
       "level                       int32\n",
       "meter_living              float64\n",
       "size                        int32\n",
       "price_per_meter           float64\n",
       "house_age                  object\n",
       "dormitory_type             object\n",
       "dtype: object"
      ]
     },
     "execution_count": 19,
     "metadata": {},
     "output_type": "execute_result"
    }
   ],
   "source": [
    "data.dtypes"
   ]
  },
  {
   "cell_type": "code",
   "execution_count": 20,
   "id": "67d6f8b9",
   "metadata": {
    "ExecuteTime": {
     "end_time": "2022-04-13T00:09:35.850323Z",
     "start_time": "2022-04-13T00:09:23.210500Z"
    }
   },
   "outputs": [
    {
     "name": "stderr",
     "output_type": "stream",
     "text": [
      "C:\\Users\\alexa\\anaconda3\\lib\\site-packages\\seaborn\\axisgrid.py:2182: UserWarning: The `size` parameter has been renamed to `height`; please update your code.\n",
      "  warnings.warn(msg, UserWarning)\n"
     ]
    },
    {
     "ename": "TypeError",
     "evalue": "unsupported operand type(s) for *: 'Timestamp' and 'float'",
     "output_type": "error",
     "traceback": [
      "\u001b[1;31m---------------------------------------------------------------------------\u001b[0m",
      "\u001b[1;31mTypeError\u001b[0m                                 Traceback (most recent call last)",
      "\u001b[1;32m~\\AppData\\Local\\Temp\\ipykernel_8988\\3427017687.py\u001b[0m in \u001b[0;36m<module>\u001b[1;34m\u001b[0m\n\u001b[0;32m      2\u001b[0m \u001b[1;33m\u001b[0m\u001b[0m\n\u001b[0;32m      3\u001b[0m \u001b[1;31m# Linear regression between Year Built and price\u001b[0m\u001b[1;33m\u001b[0m\u001b[1;33m\u001b[0m\u001b[0m\n\u001b[1;32m----> 4\u001b[1;33m \u001b[0msb\u001b[0m\u001b[1;33m.\u001b[0m\u001b[0mjointplot\u001b[0m\u001b[1;33m(\u001b[0m\u001b[0mx\u001b[0m\u001b[1;33m=\u001b[0m\u001b[1;34m'yr_built'\u001b[0m\u001b[1;33m,\u001b[0m \u001b[0my\u001b[0m\u001b[1;33m=\u001b[0m\u001b[1;34m'price'\u001b[0m\u001b[1;33m,\u001b[0m\u001b[0mdata\u001b[0m\u001b[1;33m=\u001b[0m\u001b[0mdata\u001b[0m\u001b[1;33m,\u001b[0m\u001b[0mkind\u001b[0m\u001b[1;33m=\u001b[0m\u001b[1;34m'reg'\u001b[0m\u001b[1;33m,\u001b[0m\u001b[0msize\u001b[0m\u001b[1;33m=\u001b[0m\u001b[1;36m4\u001b[0m\u001b[1;33m)\u001b[0m\u001b[1;33m\u001b[0m\u001b[1;33m\u001b[0m\u001b[0m\n\u001b[0m\u001b[0;32m      5\u001b[0m \u001b[1;33m\u001b[0m\u001b[0m\n\u001b[0;32m      6\u001b[0m \u001b[1;31m# Linear regression between Year renovated and price\u001b[0m\u001b[1;33m\u001b[0m\u001b[1;33m\u001b[0m\u001b[0m\n",
      "\u001b[1;32m~\\anaconda3\\lib\\site-packages\\seaborn\\_decorators.py\u001b[0m in \u001b[0;36minner_f\u001b[1;34m(*args, **kwargs)\u001b[0m\n\u001b[0;32m     44\u001b[0m             )\n\u001b[0;32m     45\u001b[0m         \u001b[0mkwargs\u001b[0m\u001b[1;33m.\u001b[0m\u001b[0mupdate\u001b[0m\u001b[1;33m(\u001b[0m\u001b[1;33m{\u001b[0m\u001b[0mk\u001b[0m\u001b[1;33m:\u001b[0m \u001b[0marg\u001b[0m \u001b[1;32mfor\u001b[0m \u001b[0mk\u001b[0m\u001b[1;33m,\u001b[0m \u001b[0marg\u001b[0m \u001b[1;32min\u001b[0m \u001b[0mzip\u001b[0m\u001b[1;33m(\u001b[0m\u001b[0msig\u001b[0m\u001b[1;33m.\u001b[0m\u001b[0mparameters\u001b[0m\u001b[1;33m,\u001b[0m \u001b[0margs\u001b[0m\u001b[1;33m)\u001b[0m\u001b[1;33m}\u001b[0m\u001b[1;33m)\u001b[0m\u001b[1;33m\u001b[0m\u001b[1;33m\u001b[0m\u001b[0m\n\u001b[1;32m---> 46\u001b[1;33m         \u001b[1;32mreturn\u001b[0m \u001b[0mf\u001b[0m\u001b[1;33m(\u001b[0m\u001b[1;33m**\u001b[0m\u001b[0mkwargs\u001b[0m\u001b[1;33m)\u001b[0m\u001b[1;33m\u001b[0m\u001b[1;33m\u001b[0m\u001b[0m\n\u001b[0m\u001b[0;32m     47\u001b[0m     \u001b[1;32mreturn\u001b[0m \u001b[0minner_f\u001b[0m\u001b[1;33m\u001b[0m\u001b[1;33m\u001b[0m\u001b[0m\n\u001b[0;32m     48\u001b[0m \u001b[1;33m\u001b[0m\u001b[0m\n",
      "\u001b[1;32m~\\anaconda3\\lib\\site-packages\\seaborn\\axisgrid.py\u001b[0m in \u001b[0;36mjointplot\u001b[1;34m(x, y, data, kind, color, height, ratio, space, dropna, xlim, ylim, marginal_ticks, joint_kws, marginal_kws, hue, palette, hue_order, hue_norm, **kwargs)\u001b[0m\n\u001b[0;32m   2311\u001b[0m \u001b[1;33m\u001b[0m\u001b[0m\n\u001b[0;32m   2312\u001b[0m         \u001b[0mjoint_kws\u001b[0m\u001b[1;33m.\u001b[0m\u001b[0msetdefault\u001b[0m\u001b[1;33m(\u001b[0m\u001b[1;34m\"color\"\u001b[0m\u001b[1;33m,\u001b[0m \u001b[0mcolor\u001b[0m\u001b[1;33m)\u001b[0m\u001b[1;33m\u001b[0m\u001b[1;33m\u001b[0m\u001b[0m\n\u001b[1;32m-> 2313\u001b[1;33m         \u001b[0mgrid\u001b[0m\u001b[1;33m.\u001b[0m\u001b[0mplot_joint\u001b[0m\u001b[1;33m(\u001b[0m\u001b[0mregplot\u001b[0m\u001b[1;33m,\u001b[0m \u001b[1;33m**\u001b[0m\u001b[0mjoint_kws\u001b[0m\u001b[1;33m)\u001b[0m\u001b[1;33m\u001b[0m\u001b[1;33m\u001b[0m\u001b[0m\n\u001b[0m\u001b[0;32m   2314\u001b[0m \u001b[1;33m\u001b[0m\u001b[0m\n\u001b[0;32m   2315\u001b[0m     \u001b[1;32melif\u001b[0m \u001b[0mkind\u001b[0m\u001b[1;33m.\u001b[0m\u001b[0mstartswith\u001b[0m\u001b[1;33m(\u001b[0m\u001b[1;34m\"resid\"\u001b[0m\u001b[1;33m)\u001b[0m\u001b[1;33m:\u001b[0m\u001b[1;33m\u001b[0m\u001b[1;33m\u001b[0m\u001b[0m\n",
      "\u001b[1;32m~\\anaconda3\\lib\\site-packages\\seaborn\\axisgrid.py\u001b[0m in \u001b[0;36mplot_joint\u001b[1;34m(self, func, **kwargs)\u001b[0m\n\u001b[0;32m   1804\u001b[0m \u001b[1;33m\u001b[0m\u001b[0m\n\u001b[0;32m   1805\u001b[0m         \u001b[1;32mif\u001b[0m \u001b[0mstr\u001b[0m\u001b[1;33m(\u001b[0m\u001b[0mfunc\u001b[0m\u001b[1;33m.\u001b[0m\u001b[0m__module__\u001b[0m\u001b[1;33m)\u001b[0m\u001b[1;33m.\u001b[0m\u001b[0mstartswith\u001b[0m\u001b[1;33m(\u001b[0m\u001b[1;34m\"seaborn\"\u001b[0m\u001b[1;33m)\u001b[0m\u001b[1;33m:\u001b[0m\u001b[1;33m\u001b[0m\u001b[1;33m\u001b[0m\u001b[0m\n\u001b[1;32m-> 1806\u001b[1;33m             \u001b[0mfunc\u001b[0m\u001b[1;33m(\u001b[0m\u001b[0mx\u001b[0m\u001b[1;33m=\u001b[0m\u001b[0mself\u001b[0m\u001b[1;33m.\u001b[0m\u001b[0mx\u001b[0m\u001b[1;33m,\u001b[0m \u001b[0my\u001b[0m\u001b[1;33m=\u001b[0m\u001b[0mself\u001b[0m\u001b[1;33m.\u001b[0m\u001b[0my\u001b[0m\u001b[1;33m,\u001b[0m \u001b[1;33m**\u001b[0m\u001b[0mkwargs\u001b[0m\u001b[1;33m)\u001b[0m\u001b[1;33m\u001b[0m\u001b[1;33m\u001b[0m\u001b[0m\n\u001b[0m\u001b[0;32m   1807\u001b[0m         \u001b[1;32melse\u001b[0m\u001b[1;33m:\u001b[0m\u001b[1;33m\u001b[0m\u001b[1;33m\u001b[0m\u001b[0m\n\u001b[0;32m   1808\u001b[0m             \u001b[0mfunc\u001b[0m\u001b[1;33m(\u001b[0m\u001b[0mself\u001b[0m\u001b[1;33m.\u001b[0m\u001b[0mx\u001b[0m\u001b[1;33m,\u001b[0m \u001b[0mself\u001b[0m\u001b[1;33m.\u001b[0m\u001b[0my\u001b[0m\u001b[1;33m,\u001b[0m \u001b[1;33m**\u001b[0m\u001b[0mkwargs\u001b[0m\u001b[1;33m)\u001b[0m\u001b[1;33m\u001b[0m\u001b[1;33m\u001b[0m\u001b[0m\n",
      "\u001b[1;32m~\\anaconda3\\lib\\site-packages\\seaborn\\_decorators.py\u001b[0m in \u001b[0;36minner_f\u001b[1;34m(*args, **kwargs)\u001b[0m\n\u001b[0;32m     44\u001b[0m             )\n\u001b[0;32m     45\u001b[0m         \u001b[0mkwargs\u001b[0m\u001b[1;33m.\u001b[0m\u001b[0mupdate\u001b[0m\u001b[1;33m(\u001b[0m\u001b[1;33m{\u001b[0m\u001b[0mk\u001b[0m\u001b[1;33m:\u001b[0m \u001b[0marg\u001b[0m \u001b[1;32mfor\u001b[0m \u001b[0mk\u001b[0m\u001b[1;33m,\u001b[0m \u001b[0marg\u001b[0m \u001b[1;32min\u001b[0m \u001b[0mzip\u001b[0m\u001b[1;33m(\u001b[0m\u001b[0msig\u001b[0m\u001b[1;33m.\u001b[0m\u001b[0mparameters\u001b[0m\u001b[1;33m,\u001b[0m \u001b[0margs\u001b[0m\u001b[1;33m)\u001b[0m\u001b[1;33m}\u001b[0m\u001b[1;33m)\u001b[0m\u001b[1;33m\u001b[0m\u001b[1;33m\u001b[0m\u001b[0m\n\u001b[1;32m---> 46\u001b[1;33m         \u001b[1;32mreturn\u001b[0m \u001b[0mf\u001b[0m\u001b[1;33m(\u001b[0m\u001b[1;33m**\u001b[0m\u001b[0mkwargs\u001b[0m\u001b[1;33m)\u001b[0m\u001b[1;33m\u001b[0m\u001b[1;33m\u001b[0m\u001b[0m\n\u001b[0m\u001b[0;32m     47\u001b[0m     \u001b[1;32mreturn\u001b[0m \u001b[0minner_f\u001b[0m\u001b[1;33m\u001b[0m\u001b[1;33m\u001b[0m\u001b[0m\n\u001b[0;32m     48\u001b[0m \u001b[1;33m\u001b[0m\u001b[0m\n",
      "\u001b[1;32m~\\anaconda3\\lib\\site-packages\\seaborn\\regression.py\u001b[0m in \u001b[0;36mregplot\u001b[1;34m(x, y, data, x_estimator, x_bins, x_ci, scatter, fit_reg, ci, n_boot, units, seed, order, logistic, lowess, robust, logx, x_partial, y_partial, truncate, dropna, x_jitter, y_jitter, label, color, marker, scatter_kws, line_kws, ax)\u001b[0m\n\u001b[0;32m    861\u001b[0m     \u001b[0mscatter_kws\u001b[0m\u001b[1;33m[\u001b[0m\u001b[1;34m\"marker\"\u001b[0m\u001b[1;33m]\u001b[0m \u001b[1;33m=\u001b[0m \u001b[0mmarker\u001b[0m\u001b[1;33m\u001b[0m\u001b[1;33m\u001b[0m\u001b[0m\n\u001b[0;32m    862\u001b[0m     \u001b[0mline_kws\u001b[0m \u001b[1;33m=\u001b[0m \u001b[1;33m{\u001b[0m\u001b[1;33m}\u001b[0m \u001b[1;32mif\u001b[0m \u001b[0mline_kws\u001b[0m \u001b[1;32mis\u001b[0m \u001b[1;32mNone\u001b[0m \u001b[1;32melse\u001b[0m \u001b[0mcopy\u001b[0m\u001b[1;33m.\u001b[0m\u001b[0mcopy\u001b[0m\u001b[1;33m(\u001b[0m\u001b[0mline_kws\u001b[0m\u001b[1;33m)\u001b[0m\u001b[1;33m\u001b[0m\u001b[1;33m\u001b[0m\u001b[0m\n\u001b[1;32m--> 863\u001b[1;33m     \u001b[0mplotter\u001b[0m\u001b[1;33m.\u001b[0m\u001b[0mplot\u001b[0m\u001b[1;33m(\u001b[0m\u001b[0max\u001b[0m\u001b[1;33m,\u001b[0m \u001b[0mscatter_kws\u001b[0m\u001b[1;33m,\u001b[0m \u001b[0mline_kws\u001b[0m\u001b[1;33m)\u001b[0m\u001b[1;33m\u001b[0m\u001b[1;33m\u001b[0m\u001b[0m\n\u001b[0m\u001b[0;32m    864\u001b[0m     \u001b[1;32mreturn\u001b[0m \u001b[0max\u001b[0m\u001b[1;33m\u001b[0m\u001b[1;33m\u001b[0m\u001b[0m\n\u001b[0;32m    865\u001b[0m \u001b[1;33m\u001b[0m\u001b[0m\n",
      "\u001b[1;32m~\\anaconda3\\lib\\site-packages\\seaborn\\regression.py\u001b[0m in \u001b[0;36mplot\u001b[1;34m(self, ax, scatter_kws, line_kws)\u001b[0m\n\u001b[0;32m    368\u001b[0m \u001b[1;33m\u001b[0m\u001b[0m\n\u001b[0;32m    369\u001b[0m         \u001b[1;32mif\u001b[0m \u001b[0mself\u001b[0m\u001b[1;33m.\u001b[0m\u001b[0mfit_reg\u001b[0m\u001b[1;33m:\u001b[0m\u001b[1;33m\u001b[0m\u001b[1;33m\u001b[0m\u001b[0m\n\u001b[1;32m--> 370\u001b[1;33m             \u001b[0mself\u001b[0m\u001b[1;33m.\u001b[0m\u001b[0mlineplot\u001b[0m\u001b[1;33m(\u001b[0m\u001b[0max\u001b[0m\u001b[1;33m,\u001b[0m \u001b[0mline_kws\u001b[0m\u001b[1;33m)\u001b[0m\u001b[1;33m\u001b[0m\u001b[1;33m\u001b[0m\u001b[0m\n\u001b[0m\u001b[0;32m    371\u001b[0m \u001b[1;33m\u001b[0m\u001b[0m\n\u001b[0;32m    372\u001b[0m         \u001b[1;31m# Label the axes\u001b[0m\u001b[1;33m\u001b[0m\u001b[1;33m\u001b[0m\u001b[0m\n",
      "\u001b[1;32m~\\anaconda3\\lib\\site-packages\\seaborn\\regression.py\u001b[0m in \u001b[0;36mlineplot\u001b[1;34m(self, ax, kws)\u001b[0m\n\u001b[0;32m    411\u001b[0m         \u001b[1;34m\"\"\"Draw the model.\"\"\"\u001b[0m\u001b[1;33m\u001b[0m\u001b[1;33m\u001b[0m\u001b[0m\n\u001b[0;32m    412\u001b[0m         \u001b[1;31m# Fit the regression model\u001b[0m\u001b[1;33m\u001b[0m\u001b[1;33m\u001b[0m\u001b[0m\n\u001b[1;32m--> 413\u001b[1;33m         \u001b[0mgrid\u001b[0m\u001b[1;33m,\u001b[0m \u001b[0myhat\u001b[0m\u001b[1;33m,\u001b[0m \u001b[0merr_bands\u001b[0m \u001b[1;33m=\u001b[0m \u001b[0mself\u001b[0m\u001b[1;33m.\u001b[0m\u001b[0mfit_regression\u001b[0m\u001b[1;33m(\u001b[0m\u001b[0max\u001b[0m\u001b[1;33m)\u001b[0m\u001b[1;33m\u001b[0m\u001b[1;33m\u001b[0m\u001b[0m\n\u001b[0m\u001b[0;32m    414\u001b[0m         \u001b[0medges\u001b[0m \u001b[1;33m=\u001b[0m \u001b[0mgrid\u001b[0m\u001b[1;33m[\u001b[0m\u001b[1;36m0\u001b[0m\u001b[1;33m]\u001b[0m\u001b[1;33m,\u001b[0m \u001b[0mgrid\u001b[0m\u001b[1;33m[\u001b[0m\u001b[1;33m-\u001b[0m\u001b[1;36m1\u001b[0m\u001b[1;33m]\u001b[0m\u001b[1;33m\u001b[0m\u001b[1;33m\u001b[0m\u001b[0m\n\u001b[0;32m    415\u001b[0m \u001b[1;33m\u001b[0m\u001b[0m\n",
      "\u001b[1;32m~\\anaconda3\\lib\\site-packages\\seaborn\\regression.py\u001b[0m in \u001b[0;36mfit_regression\u001b[1;34m(self, ax, x_range, grid)\u001b[0m\n\u001b[0;32m    199\u001b[0m                 \u001b[1;32melse\u001b[0m\u001b[1;33m:\u001b[0m\u001b[1;33m\u001b[0m\u001b[1;33m\u001b[0m\u001b[0m\n\u001b[0;32m    200\u001b[0m                     \u001b[0mx_min\u001b[0m\u001b[1;33m,\u001b[0m \u001b[0mx_max\u001b[0m \u001b[1;33m=\u001b[0m \u001b[0max\u001b[0m\u001b[1;33m.\u001b[0m\u001b[0mget_xlim\u001b[0m\u001b[1;33m(\u001b[0m\u001b[1;33m)\u001b[0m\u001b[1;33m\u001b[0m\u001b[1;33m\u001b[0m\u001b[0m\n\u001b[1;32m--> 201\u001b[1;33m             \u001b[0mgrid\u001b[0m \u001b[1;33m=\u001b[0m \u001b[0mnp\u001b[0m\u001b[1;33m.\u001b[0m\u001b[0mlinspace\u001b[0m\u001b[1;33m(\u001b[0m\u001b[0mx_min\u001b[0m\u001b[1;33m,\u001b[0m \u001b[0mx_max\u001b[0m\u001b[1;33m,\u001b[0m \u001b[1;36m100\u001b[0m\u001b[1;33m)\u001b[0m\u001b[1;33m\u001b[0m\u001b[1;33m\u001b[0m\u001b[0m\n\u001b[0m\u001b[0;32m    202\u001b[0m         \u001b[0mci\u001b[0m \u001b[1;33m=\u001b[0m \u001b[0mself\u001b[0m\u001b[1;33m.\u001b[0m\u001b[0mci\u001b[0m\u001b[1;33m\u001b[0m\u001b[1;33m\u001b[0m\u001b[0m\n\u001b[0;32m    203\u001b[0m \u001b[1;33m\u001b[0m\u001b[0m\n",
      "\u001b[1;32m<__array_function__ internals>\u001b[0m in \u001b[0;36mlinspace\u001b[1;34m(*args, **kwargs)\u001b[0m\n",
      "\u001b[1;32m~\\anaconda3\\lib\\site-packages\\numpy\\core\\function_base.py\u001b[0m in \u001b[0;36mlinspace\u001b[1;34m(start, stop, num, endpoint, retstep, dtype, axis)\u001b[0m\n\u001b[0;32m    125\u001b[0m     \u001b[1;31m# Convert float/complex array scalars to float, gh-3504\u001b[0m\u001b[1;33m\u001b[0m\u001b[1;33m\u001b[0m\u001b[0m\n\u001b[0;32m    126\u001b[0m     \u001b[1;31m# and make sure one can use variables that have an __array_interface__, gh-6634\u001b[0m\u001b[1;33m\u001b[0m\u001b[1;33m\u001b[0m\u001b[0m\n\u001b[1;32m--> 127\u001b[1;33m     \u001b[0mstart\u001b[0m \u001b[1;33m=\u001b[0m \u001b[0masanyarray\u001b[0m\u001b[1;33m(\u001b[0m\u001b[0mstart\u001b[0m\u001b[1;33m)\u001b[0m \u001b[1;33m*\u001b[0m \u001b[1;36m1.0\u001b[0m\u001b[1;33m\u001b[0m\u001b[1;33m\u001b[0m\u001b[0m\n\u001b[0m\u001b[0;32m    128\u001b[0m     \u001b[0mstop\u001b[0m  \u001b[1;33m=\u001b[0m \u001b[0masanyarray\u001b[0m\u001b[1;33m(\u001b[0m\u001b[0mstop\u001b[0m\u001b[1;33m)\u001b[0m  \u001b[1;33m*\u001b[0m \u001b[1;36m1.0\u001b[0m\u001b[1;33m\u001b[0m\u001b[1;33m\u001b[0m\u001b[0m\n\u001b[0;32m    129\u001b[0m \u001b[1;33m\u001b[0m\u001b[0m\n",
      "\u001b[1;31mTypeError\u001b[0m: unsupported operand type(s) for *: 'Timestamp' and 'float'"
     ]
    },
    {
     "data": {
      "image/png": "[encoded data removed]",
      "text/plain": [
       "<Figure size 400x400 with 3 Axes>"
      ]
     },
     "metadata": {},
     "output_type": "display_data"
    }
   ],
   "source": [
    "# Indivudal variable relationship with Price\n",
    "\n",
    "# Linear regression between Year Built and price\n",
    "sb.jointplot(x='yr_built', y='price',data=data,kind='reg',size=4)\n",
    "\n",
    "# Linear regression between Year renovated and price\n",
    "sb.jointplot(x='yr_renovated',y='price',data=data,kind='reg',size=4)\n",
    "\n",
    "\n",
    "# Linear regression between Number of Bedrooms and price\n",
    "sb.jointplot(x='bedrooms',y='price', data=data, kind='reg',size=4)\n",
    "\n",
    "# Linear regression between Number of Bathrooms and price\n",
    "sb.jointplot(x='bathrooms',y='price', data=data ,kind='reg',size=4)\n",
    "\n",
    "# Linear regression between condition and price\n",
    "sb.jointplot(x='condition',y='price', data=data ,kind='reg',size=4)\n",
    "\n",
    "# Linear regression between grade and price\n",
    "sb.jointplot(x='grade',y='price', data=data ,kind='reg',size=4)"
   ]
  },
  {
   "cell_type": "code",
   "execution_count": null,
   "id": "e895e904",
   "metadata": {},
   "outputs": [],
   "source": []
  },
  {
   "cell_type": "code",
   "execution_count": null,
   "id": "6abc2894",
   "metadata": {
    "ExecuteTime": {
     "end_time": "2022-04-13T00:10:31.821644Z",
     "start_time": "2022-04-13T00:10:30.713697Z"
    }
   },
   "outputs": [],
   "source": [
    "plt.figure(figsize=(15,10))\n",
    "columns =['price','bedrooms','bathrooms','sqft_living','floors','sqft_lot','yr_built','condition','yr_renovated','level','size','house_age','dormitory_type','view','condition','waterfront']\n",
    "sb.heatmap(data[columns].corr(),annot=True)"
   ]
  },
  {
   "cell_type": "code",
   "execution_count": null,
   "id": "6e8a1762",
   "metadata": {
    "ExecuteTime": {
     "end_time": "2022-04-13T00:10:42.567912Z",
     "start_time": "2022-04-13T00:10:42.327560Z"
    }
   },
   "outputs": [],
   "source": [
    "plt.figure(figsize=(15,10))\n",
    "columns =['price','yr_built','yr_renovated','level','size','house_age','dormitory_type']\n",
    "sb.heatmap(data[columns].corr(),annot=True)"
   ]
  },
  {
   "cell_type": "markdown",
   "id": "725930cf",
   "metadata": {
    "ExecuteTime": {
     "end_time": "2022-03-19T16:02:05.134490Z",
     "start_time": "2022-03-19T16:02:05.130493Z"
    }
   },
   "source": []
  },
  {
   "cell_type": "code",
   "execution_count": null,
   "id": "ab5f8e0d",
   "metadata": {
    "ExecuteTime": {
     "end_time": "2022-03-19T16:10:31.208131Z",
     "start_time": "2022-03-19T16:10:31.066763Z"
    }
   },
   "outputs": [],
   "source": []
  },
  {
   "cell_type": "code",
   "execution_count": null,
   "id": "a73fe7a1",
   "metadata": {
    "ExecuteTime": {
     "end_time": "2022-03-19T16:17:06.530991Z",
     "start_time": "2022-03-19T16:17:06.429052Z"
    }
   },
   "outputs": [],
   "source": []
  },
  {
   "cell_type": "code",
   "execution_count": null,
   "id": "c7cfa549",
   "metadata": {
    "ExecuteTime": {
     "end_time": "2022-03-19T16:20:10.428346Z",
     "start_time": "2022-03-19T16:20:10.412724Z"
    }
   },
   "outputs": [],
   "source": []
  },
  {
   "cell_type": "code",
   "execution_count": null,
   "id": "8d3850a3",
   "metadata": {},
   "outputs": [],
   "source": []
  },
  {
   "cell_type": "code",
   "execution_count": null,
   "id": "a9c1ddba",
   "metadata": {},
   "outputs": [],
   "source": []
  },
  {
   "cell_type": "code",
   "execution_count": null,
   "id": "484301e7",
   "metadata": {},
   "outputs": [],
   "source": []
  }
 ],
 "metadata": {
  "kernelspec": {
   "display_name": "Python 3 (ipykernel)",
   "language": "python",
   "name": "python3"
  },
  "language_info": {
   "codemirror_mode": {
    "name": "ipython",
    "version": 3
   },
   "file_extension": ".py",
   "mimetype": "text/x-python",
   "name": "python",
   "nbconvert_exporter": "python",
   "pygments_lexer": "ipython3",
   "version": "3.9.13"
  },
  "toc": {
   "base_numbering": 1,
   "nav_menu": {},
   "number_sections": true,
   "sideBar": true,
   "skip_h1_title": false,
   "title_cell": "Table of Contents",
   "title_sidebar": "Contents",
   "toc_cell": false,
   "toc_position": {},
   "toc_section_display": true,
   "toc_window_display": false
  }
 },
 "nbformat": 4,
 "nbformat_minor": 5
}
